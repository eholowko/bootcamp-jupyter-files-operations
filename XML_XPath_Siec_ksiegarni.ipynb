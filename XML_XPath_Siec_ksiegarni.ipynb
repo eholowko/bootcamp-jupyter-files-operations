{
 "cells": [
  {
   "cell_type": "code",
   "execution_count": 1,
   "metadata": {
    "collapsed": true
   },
   "outputs": [],
   "source": [
    "import pandas as pd\n",
    "import numpy as np"
   ]
  },
  {
   "cell_type": "code",
   "execution_count": 2,
   "metadata": {
    "collapsed": true
   },
   "outputs": [],
   "source": [
    "from lxml import etree"
   ]
  },
  {
   "cell_type": "code",
   "execution_count": 3,
   "metadata": {
    "collapsed": true
   },
   "outputs": [],
   "source": [
    "tree = etree.parse(\"siecKsiegarni.xml\")"
   ]
  },
  {
   "cell_type": "code",
   "execution_count": 4,
   "metadata": {
    "collapsed": true
   },
   "outputs": [],
   "source": [
    "siec = tree.getroot()"
   ]
  },
  {
   "cell_type": "code",
   "execution_count": 5,
   "metadata": {
    "collapsed": false
   },
   "outputs": [
    {
     "data": {
      "text/plain": [
       "b'<Siec nazwa=\"CiekaweKsiazki\">\\n\\n\\t<Ksiegarnia adres=\"Aleje Jerozolimskie\">\\n\\t<Wlasciciel imie=\"Maja\" nazwisko=\"Kowalska\"/>\\n\\t<Ksiazka gatunek=\"Fantasy\" autor=\"Brent Weeks\" liczba=\"3\">\\n\\tOkaleczone oko\\n\\t</Ksiazka>\\n\\t<Ksiazka gatunek=\"Fantasy\" autor=\"Brent Weeks\" liczba=\"1\">\\n\\tO&#347;lepiaj&#261;cy n&#243;&#380;\\n\\t</Ksiazka>\\n\\t<Ksiazka gatunek=\"Fantasy\" autor=\"Brent Weeks\" liczba=\"2\">\\n\\tCzarny Pryzmat\\n\\t</Ksiazka>\\n\\t<Ksiazka gatunek=\"Fantasy\" autor=\"Brent Weeks\" liczba=\"5\">\\n\\tKrwawe Zwierciad&#322;o\\n\\t</Ksiazka>\\n\\t</Ksiegarnia>\\n\\n\\t<Ksiegarnia adres=\"3 Maja\">\\n\\t<Wlasciciel imie=\"Matylda\" nazwisko=\"Jankowska\"/>\\n\\t<Ksiazka gatunek=\"Fantasy\" autor=\"Brent Weeks\" liczba=\"1\">\\n\\tCzarny Pryzmat\\n\\t</Ksiazka>\\n\\t<Ksiazka gatunek=\"Fantasy\" autor=\"Brent Weeks\" liczba=\"2\">\\n\\tKrwawe Zwierciad&#322;o\\n\\t</Ksiazka>\\n\\t<Ksiazka gatunek=\"Klasyka\" autor=\"Jane Austen\" liczba=\"3\">\\n\\tDuma i uprzedzenie\\n\\t</Ksiazka>\\n\\t</Ksiegarnia>\\n\\n\\t<Ksiegarnia adres=\"Marywilska\">\\n\\t<Wlasciciel imie=\"Jan\" nazwisko=\"Nowak\"/>\\n\\t<Ksiazka gatunek=\"Fantasy\" autor=\"Brent Weeks\">\\n\\tOkaleczone oko\\n\\t</Ksiazka>\\n\\t<Ksiazka gatunek=\"Fantasy\" autor=\"Brent Weeks\">\\n\\tO&#347;lepiaj&#261;cy n&#243;&#380;\\n\\t</Ksiazka>\\n\\t<Ksiazka gatunek=\"Klasyka\" autor=\"Jane Austen\">\\n\\tDuma i uprzedzenie\\n\\t</Ksiazka>\\n\\t</Ksiegarnia>\\n\\n</Siec>'"
      ]
     },
     "execution_count": 5,
     "metadata": {},
     "output_type": "execute_result"
    }
   ],
   "source": [
    "etree.tostring(tree)"
   ]
  },
  {
   "cell_type": "code",
   "execution_count": 6,
   "metadata": {
    "collapsed": false
   },
   "outputs": [
    {
     "data": {
      "text/plain": [
       "'Siec'"
      ]
     },
     "execution_count": 6,
     "metadata": {},
     "output_type": "execute_result"
    }
   ],
   "source": [
    "siec.tag"
   ]
  },
  {
   "cell_type": "code",
   "execution_count": 7,
   "metadata": {
    "collapsed": false
   },
   "outputs": [
    {
     "data": {
      "text/plain": [
       "['nazwa']"
      ]
     },
     "execution_count": 7,
     "metadata": {},
     "output_type": "execute_result"
    }
   ],
   "source": [
    "siec.keys()"
   ]
  },
  {
   "cell_type": "code",
   "execution_count": 8,
   "metadata": {
    "collapsed": false
   },
   "outputs": [
    {
     "data": {
      "text/plain": [
       "'CiekaweKsiazki'"
      ]
     },
     "execution_count": 8,
     "metadata": {},
     "output_type": "execute_result"
    }
   ],
   "source": [
    "siec.get(\"nazwa\")"
   ]
  },
  {
   "cell_type": "code",
   "execution_count": 9,
   "metadata": {
    "collapsed": false
   },
   "outputs": [],
   "source": [
    "ksiazka = siec[0][1]"
   ]
  },
  {
   "cell_type": "code",
   "execution_count": 10,
   "metadata": {
    "collapsed": false
   },
   "outputs": [
    {
     "data": {
      "text/plain": [
       "'Okaleczone oko'"
      ]
     },
     "execution_count": 10,
     "metadata": {},
     "output_type": "execute_result"
    }
   ],
   "source": [
    "ksiazka.text.strip()"
   ]
  },
  {
   "cell_type": "code",
   "execution_count": 11,
   "metadata": {
    "collapsed": false
   },
   "outputs": [
    {
     "data": {
      "text/plain": [
       "[<Element Ksiegarnia at 0x7fad301f3cc8>,\n",
       " <Element Ksiegarnia at 0x7fad301f3c08>,\n",
       " <Element Ksiegarnia at 0x7fad301f37c8>]"
      ]
     },
     "execution_count": 11,
     "metadata": {},
     "output_type": "execute_result"
    }
   ],
   "source": [
    "siec.xpath(\"*\")"
   ]
  },
  {
   "cell_type": "markdown",
   "metadata": {},
   "source": [
    "## Wylistuj, pod jakimi adresami znajdują się księgarnie w tej sieci księgarni"
   ]
  },
  {
   "cell_type": "code",
   "execution_count": 26,
   "metadata": {
    "collapsed": false
   },
   "outputs": [
    {
     "data": {
      "text/plain": [
       "['Aleje Jerozolimskie', '3 Maja', 'Marywilska']"
      ]
     },
     "execution_count": 26,
     "metadata": {},
     "output_type": "execute_result"
    }
   ],
   "source": [
    "siec.xpath(\"Ksiegarnia/@adres\")"
   ]
  },
  {
   "cell_type": "markdown",
   "metadata": {},
   "source": [
    "## Jakie są dostępne wszystkie książki w tej sieci księgarni"
   ]
  },
  {
   "cell_type": "code",
   "execution_count": 55,
   "metadata": {
    "collapsed": false
   },
   "outputs": [
    {
     "data": {
      "text/plain": [
       "['Okaleczone oko',\n",
       " 'Oślepiający nóż',\n",
       " 'Czarny Pryzmat',\n",
       " 'Krwawe Zwierciadło',\n",
       " 'Czarny Pryzmat',\n",
       " 'Krwawe Zwierciadło',\n",
       " 'Duma i uprzedzenie',\n",
       " 'Okaleczone oko',\n",
       " 'Oślepiający nóż',\n",
       " 'Duma i uprzedzenie']"
      ]
     },
     "execution_count": 55,
     "metadata": {},
     "output_type": "execute_result"
    }
   ],
   "source": [
    "[tytul.strip() for tytul in siec.xpath(\"//Ksiazka/text()\")]"
   ]
  },
  {
   "cell_type": "markdown",
   "metadata": {},
   "source": [
    "## Jakie są dostępne wszystkie książki w tej sieci księgarni, które są z gatunku Fantasy"
   ]
  },
  {
   "cell_type": "code",
   "execution_count": 54,
   "metadata": {
    "collapsed": false
   },
   "outputs": [
    {
     "data": {
      "text/plain": [
       "['\\n\\tOkaleczone oko\\n\\t',\n",
       " '\\n\\tOślepiający nóż\\n\\t',\n",
       " '\\n\\tCzarny Pryzmat\\n\\t',\n",
       " '\\n\\tKrwawe Zwierciadło\\n\\t',\n",
       " '\\n\\tCzarny Pryzmat\\n\\t',\n",
       " '\\n\\tKrwawe Zwierciadło\\n\\t',\n",
       " '\\n\\tOkaleczone oko\\n\\t',\n",
       " '\\n\\tOślepiający nóż\\n\\t']"
      ]
     },
     "execution_count": 54,
     "metadata": {},
     "output_type": "execute_result"
    }
   ],
   "source": [
    "siec.xpath(\"//Ksiazka[@gatunek = 'Fantasy']/text()\")"
   ]
  },
  {
   "cell_type": "markdown",
   "metadata": {},
   "source": [
    "## Wylistuj w ładnej formie wszystkie książki w tej sieci księgarni, które są z gatunku Fantasy, wraz z adresami księgarni, gdzie można je nabyć"
   ]
  },
  {
   "cell_type": "code",
   "execution_count": 71,
   "metadata": {
    "collapsed": false
   },
   "outputs": [],
   "source": [
    "ksiazki = siec.xpath(\"//Ksiazka[@gatunek = 'Fantasy']\")"
   ]
  },
  {
   "cell_type": "code",
   "execution_count": 74,
   "metadata": {
    "collapsed": false
   },
   "outputs": [
    {
     "name": "stdout",
     "output_type": "stream",
     "text": [
      "Okaleczone oko - Aleje Jerozolimskie\n",
      "Oślepiający nóż - Aleje Jerozolimskie\n",
      "Czarny Pryzmat - Aleje Jerozolimskie\n",
      "Krwawe Zwierciadło - Aleje Jerozolimskie\n",
      "Czarny Pryzmat - 3 Maja\n",
      "Krwawe Zwierciadło - 3 Maja\n",
      "Okaleczone oko - Marywilska\n",
      "Oślepiający nóż - Marywilska\n"
     ]
    }
   ],
   "source": [
    "for ksiazka in siec.xpath(\"//Ksiazka[@gatunek='Fantasy']\"):\n",
    "    print(ksiazka.text.strip() + \" - \" + ksiazka.xpath(\"..\")[0].get(\"adres\"))"
   ]
  },
  {
   "cell_type": "markdown",
   "metadata": {},
   "source": [
    "## Wylistuj w ładnej formie, obok siebie, adres księgarni i nazwisko jej właściciela"
   ]
  },
  {
   "cell_type": "code",
   "execution_count": 78,
   "metadata": {
    "collapsed": false
   },
   "outputs": [
    {
     "name": "stdout",
     "output_type": "stream",
     "text": [
      "Aleje Jerozolimskie - Kowalska\n",
      "3 Maja - Jankowska\n",
      "Marywilska - Nowak\n"
     ]
    }
   ],
   "source": [
    "for ksiegarnia in siec.xpath(\"//Ksiegarnia\"):\n",
    "    print(ksiegarnia.get(\"adres\") + \" - \" + ksiegarnia.xpath(\"Wlasciciel\")[0].get(\"nazwisko\"))"
   ]
  },
  {
   "cell_type": "markdown",
   "metadata": {},
   "source": [
    "## Znajdź adres księgarni, gdzie właścicielem jest Matylda Jankowska,"
   ]
  },
  {
   "cell_type": "code",
   "execution_count": 102,
   "metadata": {
    "collapsed": false
   },
   "outputs": [
    {
     "data": {
      "text/plain": [
       "['3 Maja']"
      ]
     },
     "execution_count": 102,
     "metadata": {},
     "output_type": "execute_result"
    }
   ],
   "source": [
    "siec.xpath(\"//Wlasciciel[@nazwisko='Jankowska' and @imie='Matylda']/../@adres\")"
   ]
  },
  {
   "cell_type": "markdown",
   "metadata": {},
   "source": [
    "## Jakie są dostępne wszystkie książki w księgarni przy ulicy 3 Maja, których autorem jest Jane Austen"
   ]
  },
  {
   "cell_type": "code",
   "execution_count": 104,
   "metadata": {
    "collapsed": false
   },
   "outputs": [
    {
     "data": {
      "text/plain": [
       "['\\n\\tDuma i uprzedzenie\\n\\t']"
      ]
     },
     "execution_count": 104,
     "metadata": {},
     "output_type": "execute_result"
    }
   ],
   "source": [
    "siec.xpath(\"Ksiegarnia[@adres = '3 Maja']/Ksiazka[@autor = 'Jane Austen']/text()\")"
   ]
  },
  {
   "cell_type": "markdown",
   "metadata": {},
   "source": [
    "## Jakie są książki z atrybutem liczba"
   ]
  },
  {
   "cell_type": "code",
   "execution_count": 94,
   "metadata": {
    "collapsed": false
   },
   "outputs": [
    {
     "data": {
      "text/plain": [
       "['\\n\\tOkaleczone oko\\n\\t',\n",
       " '\\n\\tOślepiający nóż\\n\\t',\n",
       " '\\n\\tCzarny Pryzmat\\n\\t',\n",
       " '\\n\\tKrwawe Zwierciadło\\n\\t',\n",
       " '\\n\\tCzarny Pryzmat\\n\\t',\n",
       " '\\n\\tKrwawe Zwierciadło\\n\\t',\n",
       " '\\n\\tDuma i uprzedzenie\\n\\t']"
      ]
     },
     "execution_count": 94,
     "metadata": {},
     "output_type": "execute_result"
    }
   ],
   "source": [
    "siec.xpath(\"//Ksiazka[@liczba]/text()\")"
   ]
  },
  {
   "cell_type": "markdown",
   "metadata": {},
   "source": [
    "## Książki, których liczba jest większa lub równa 3"
   ]
  },
  {
   "cell_type": "code",
   "execution_count": 95,
   "metadata": {
    "collapsed": false
   },
   "outputs": [
    {
     "data": {
      "text/plain": [
       "['\\n\\tKrwawe Zwierciadło\\n\\t']"
      ]
     },
     "execution_count": 95,
     "metadata": {},
     "output_type": "execute_result"
    }
   ],
   "source": [
    "siec.xpath(\"//Ksiazka[@liczba>3]/text()\")"
   ]
  },
  {
   "cell_type": "code",
   "execution_count": null,
   "metadata": {
    "collapsed": true
   },
   "outputs": [],
   "source": []
  }
 ],
 "metadata": {
  "kernelspec": {
   "display_name": "Python 3",
   "language": "python",
   "name": "python3"
  },
  "language_info": {
   "codemirror_mode": {
    "name": "ipython",
    "version": 3
   },
   "file_extension": ".py",
   "mimetype": "text/x-python",
   "name": "python",
   "nbconvert_exporter": "python",
   "pygments_lexer": "ipython3",
   "version": "3.6.0"
  }
 },
 "nbformat": 4,
 "nbformat_minor": 2
}
