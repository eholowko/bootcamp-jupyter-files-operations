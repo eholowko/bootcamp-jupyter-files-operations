{
 "cells": [
  {
   "cell_type": "code",
   "execution_count": 2,
   "metadata": {
    "collapsed": false
   },
   "outputs": [],
   "source": [
    "import requests,json\n",
    "import io,os.path,re\n",
    "import numpy as np\n",
    "import pandas as pd"
   ]
  },
  {
   "cell_type": "markdown",
   "metadata": {},
   "source": [
    "## Ciekawostki matematyczne z http://numbersapi.com/"
   ]
  },
  {
   "cell_type": "code",
   "execution_count": 13,
   "metadata": {
    "collapsed": false
   },
   "outputs": [],
   "source": [
    "response = requests.get(\"http://numbersapi.com/5/math\")"
   ]
  },
  {
   "cell_type": "code",
   "execution_count": 14,
   "metadata": {
    "collapsed": false
   },
   "outputs": [
    {
     "data": {
      "text/plain": [
       "'5 is the second Sierpinski number of the first kind, and can be written as S2=(22)+1.'"
      ]
     },
     "execution_count": 14,
     "metadata": {},
     "output_type": "execute_result"
    }
   ],
   "source": [
    "response.text"
   ]
  },
  {
   "cell_type": "code",
   "execution_count": 15,
   "metadata": {
    "collapsed": true
   },
   "outputs": [],
   "source": [
    "def ciekawostki(licz,math):\n",
    "    path = \"http://numbersapi.com/\" + str(licz) + \"/\" + str(math)\n",
    "    print(path)\n",
    "                            \n",
    "    response = requests.get(path)\n",
    "    return response.text"
   ]
  },
  {
   "cell_type": "code",
   "execution_count": 16,
   "metadata": {
    "collapsed": false
   },
   "outputs": [
    {
     "name": "stdout",
     "output_type": "stream",
     "text": [
      "http://numbersapi.com/574/math\n"
     ]
    },
    {
     "data": {
      "text/plain": [
       "'574 is the maximum number of pieces a torus can be cut into with 14 cuts.'"
      ]
     },
     "execution_count": 16,
     "metadata": {},
     "output_type": "execute_result"
    }
   ],
   "source": [
    "ciekawostki(574,'math')"
   ]
  },
  {
   "cell_type": "code",
   "execution_count": 17,
   "metadata": {
    "collapsed": false
   },
   "outputs": [],
   "source": [
    "def ciekawostki_json(math,licz1,licz2 = 0):\n",
    "    \n",
    "    if math == 'date':\n",
    "        path = \"http://numbersapi.com/\" + str(licz1) + \"/\" + str(licz2) + \"/\" + str(math) + \"?json\"\n",
    "    else:\n",
    "        path = \"http://numbersapi.com/\" + str(licz1) + \"/\" + str(math) + \"/\" + \"?json\"\n",
    "        \n",
    "    print(path)\n",
    "                            \n",
    "    response = requests.get(path)\n",
    "    return response.text"
   ]
  },
  {
   "cell_type": "code",
   "execution_count": 18,
   "metadata": {
    "collapsed": false
   },
   "outputs": [
    {
     "name": "stdout",
     "output_type": "stream",
     "text": [
      "http://numbersapi.com/5/10/date?json\n"
     ]
    },
    {
     "data": {
      "text/plain": [
       "'{\\n \"text\": \"May 10th is the day in 1503 that Christopher Columbus visits the Cayman Islands and names them Las Tortugas after the numerous turtles there.\",\\n \"year\": 1503,\\n \"number\": 131,\\n \"found\": true,\\n \"type\": \"date\"\\n}'"
      ]
     },
     "execution_count": 18,
     "metadata": {},
     "output_type": "execute_result"
    }
   ],
   "source": [
    "ciekawostki_json('date',5,10)"
   ]
  },
  {
   "cell_type": "code",
   "execution_count": 19,
   "metadata": {
    "collapsed": true
   },
   "outputs": [],
   "source": [
    "from pandas.io.json import json_normalize"
   ]
  },
  {
   "cell_type": "code",
   "execution_count": 20,
   "metadata": {
    "collapsed": false
   },
   "outputs": [],
   "source": [
    "def ciekawostki_mas(licz_min,licz_max,math):\n",
    "    \n",
    "    liczby = []\n",
    "    info = []\n",
    "    \n",
    "    #http://numbersapi.com/1..3,10\n",
    "    path = \"http://numbersapi.com/\" + str(licz_min) + \"..\" + str(licz_max)\n",
    "    print(path)\n",
    "    response = requests.get(path)\n",
    "    \n",
    "    data = json.loads(response.text)\n",
    "    return json_normalize(data).T"
   ]
  },
  {
   "cell_type": "code",
   "execution_count": 21,
   "metadata": {
    "collapsed": false
   },
   "outputs": [
    {
     "name": "stdout",
     "output_type": "stream",
     "text": [
      "http://numbersapi.com/1..5\n"
     ]
    },
    {
     "data": {
      "text/html": [
       "<div>\n",
       "<table border=\"1\" class=\"dataframe\">\n",
       "  <thead>\n",
       "    <tr style=\"text-align: right;\">\n",
       "      <th></th>\n",
       "      <th>0</th>\n",
       "    </tr>\n",
       "  </thead>\n",
       "  <tbody>\n",
       "    <tr>\n",
       "      <th>1</th>\n",
       "      <td>1 is the number of moons orbiting Earth.</td>\n",
       "    </tr>\n",
       "    <tr>\n",
       "      <th>2</th>\n",
       "      <td>2 is the lowest channel of television in the U...</td>\n",
       "    </tr>\n",
       "    <tr>\n",
       "      <th>3</th>\n",
       "      <td>3 is the number of consecutive successful atte...</td>\n",
       "    </tr>\n",
       "    <tr>\n",
       "      <th>4</th>\n",
       "      <td>4 is the number of human blood groups (A, B, O...</td>\n",
       "    </tr>\n",
       "    <tr>\n",
       "      <th>5</th>\n",
       "      <td>5 is the number of permanent members with veto...</td>\n",
       "    </tr>\n",
       "  </tbody>\n",
       "</table>\n",
       "</div>"
      ],
      "text/plain": [
       "                                                   0\n",
       "1           1 is the number of moons orbiting Earth.\n",
       "2  2 is the lowest channel of television in the U...\n",
       "3  3 is the number of consecutive successful atte...\n",
       "4  4 is the number of human blood groups (A, B, O...\n",
       "5  5 is the number of permanent members with veto..."
      ]
     },
     "execution_count": 21,
     "metadata": {},
     "output_type": "execute_result"
    }
   ],
   "source": [
    "ciekawostki_mas(1,5,'math')"
   ]
  },
  {
   "cell_type": "markdown",
   "metadata": {},
   "source": [
    "## Odcinki serialu Mr Robot"
   ]
  },
  {
   "cell_type": "code",
   "execution_count": 22,
   "metadata": {
    "collapsed": false
   },
   "outputs": [],
   "source": [
    "response = requests.get(\"http://api.tvmaze.com/singlesearch/shows?q=mr-robot&embed=episodes\")"
   ]
  },
  {
   "cell_type": "code",
   "execution_count": 23,
   "metadata": {
    "collapsed": false
   },
   "outputs": [],
   "source": [
    " data = json.loads(response.text)[\"_embedded\"][\"episodes\"]"
   ]
  },
  {
   "cell_type": "code",
   "execution_count": 24,
   "metadata": {
    "collapsed": false
   },
   "outputs": [
    {
     "data": {
      "text/html": [
       "<div>\n",
       "<table border=\"1\" class=\"dataframe\">\n",
       "  <thead>\n",
       "    <tr style=\"text-align: right;\">\n",
       "      <th></th>\n",
       "      <th>name</th>\n",
       "      <th>number</th>\n",
       "      <th>season</th>\n",
       "    </tr>\n",
       "  </thead>\n",
       "  <tbody>\n",
       "    <tr>\n",
       "      <th>0</th>\n",
       "      <td>eps1.0_hellofriend.mov</td>\n",
       "      <td>1</td>\n",
       "      <td>1</td>\n",
       "    </tr>\n",
       "    <tr>\n",
       "      <th>1</th>\n",
       "      <td>eps1.1_ones-and-zer0es.mpeg</td>\n",
       "      <td>2</td>\n",
       "      <td>1</td>\n",
       "    </tr>\n",
       "    <tr>\n",
       "      <th>2</th>\n",
       "      <td>eps1.2_d3bug.mkv</td>\n",
       "      <td>3</td>\n",
       "      <td>1</td>\n",
       "    </tr>\n",
       "    <tr>\n",
       "      <th>3</th>\n",
       "      <td>eps1.3_da3m0ns.mp4</td>\n",
       "      <td>4</td>\n",
       "      <td>1</td>\n",
       "    </tr>\n",
       "    <tr>\n",
       "      <th>4</th>\n",
       "      <td>eps1.4_3xpl0its.wmv</td>\n",
       "      <td>5</td>\n",
       "      <td>1</td>\n",
       "    </tr>\n",
       "    <tr>\n",
       "      <th>5</th>\n",
       "      <td>eps1.5_br4ve-trave1er.asf</td>\n",
       "      <td>6</td>\n",
       "      <td>1</td>\n",
       "    </tr>\n",
       "    <tr>\n",
       "      <th>6</th>\n",
       "      <td>eps1.6_v1ew-s0urce.flv</td>\n",
       "      <td>7</td>\n",
       "      <td>1</td>\n",
       "    </tr>\n",
       "    <tr>\n",
       "      <th>7</th>\n",
       "      <td>eps1.7_wh1ter0se.m4v</td>\n",
       "      <td>8</td>\n",
       "      <td>1</td>\n",
       "    </tr>\n",
       "    <tr>\n",
       "      <th>8</th>\n",
       "      <td>eps1.8_m1rr0r1ng.qt</td>\n",
       "      <td>9</td>\n",
       "      <td>1</td>\n",
       "    </tr>\n",
       "    <tr>\n",
       "      <th>9</th>\n",
       "      <td>eps1.9_zer0-day.avi</td>\n",
       "      <td>10</td>\n",
       "      <td>1</td>\n",
       "    </tr>\n",
       "    <tr>\n",
       "      <th>10</th>\n",
       "      <td>eps2.0_unm4sk-pt1.tc</td>\n",
       "      <td>1</td>\n",
       "      <td>2</td>\n",
       "    </tr>\n",
       "    <tr>\n",
       "      <th>11</th>\n",
       "      <td>eps2.0_unm4sk-pt2.tc</td>\n",
       "      <td>2</td>\n",
       "      <td>2</td>\n",
       "    </tr>\n",
       "    <tr>\n",
       "      <th>12</th>\n",
       "      <td>eps2.1_k3rnel-pan1c.ksd</td>\n",
       "      <td>3</td>\n",
       "      <td>2</td>\n",
       "    </tr>\n",
       "    <tr>\n",
       "      <th>13</th>\n",
       "      <td>eps2.2_init1.asec</td>\n",
       "      <td>4</td>\n",
       "      <td>2</td>\n",
       "    </tr>\n",
       "    <tr>\n",
       "      <th>14</th>\n",
       "      <td>eps2.3_logic-b0mb.hc</td>\n",
       "      <td>5</td>\n",
       "      <td>2</td>\n",
       "    </tr>\n",
       "    <tr>\n",
       "      <th>15</th>\n",
       "      <td>eps2.4_m4ster-s1ave.aes</td>\n",
       "      <td>6</td>\n",
       "      <td>2</td>\n",
       "    </tr>\n",
       "    <tr>\n",
       "      <th>16</th>\n",
       "      <td>eps2.5_h4ndshake.sme</td>\n",
       "      <td>7</td>\n",
       "      <td>2</td>\n",
       "    </tr>\n",
       "    <tr>\n",
       "      <th>17</th>\n",
       "      <td>eps2.6_succ3ss0r.p12</td>\n",
       "      <td>8</td>\n",
       "      <td>2</td>\n",
       "    </tr>\n",
       "    <tr>\n",
       "      <th>18</th>\n",
       "      <td>eps2.7_init5.fve</td>\n",
       "      <td>9</td>\n",
       "      <td>2</td>\n",
       "    </tr>\n",
       "    <tr>\n",
       "      <th>19</th>\n",
       "      <td>eps2.8_h1dden-pr0cess.axx</td>\n",
       "      <td>10</td>\n",
       "      <td>2</td>\n",
       "    </tr>\n",
       "    <tr>\n",
       "      <th>20</th>\n",
       "      <td>eps2.9_pyth0n-pt1.p7z</td>\n",
       "      <td>11</td>\n",
       "      <td>2</td>\n",
       "    </tr>\n",
       "    <tr>\n",
       "      <th>21</th>\n",
       "      <td>eps2.9_pyth0n-pt2.p7z</td>\n",
       "      <td>12</td>\n",
       "      <td>2</td>\n",
       "    </tr>\n",
       "    <tr>\n",
       "      <th>22</th>\n",
       "      <td>eps3.0_power-saver-mode.h</td>\n",
       "      <td>1</td>\n",
       "      <td>3</td>\n",
       "    </tr>\n",
       "    <tr>\n",
       "      <th>23</th>\n",
       "      <td>eps3.1_undo.gz</td>\n",
       "      <td>2</td>\n",
       "      <td>3</td>\n",
       "    </tr>\n",
       "    <tr>\n",
       "      <th>24</th>\n",
       "      <td>eps3.2_legacy.so</td>\n",
       "      <td>3</td>\n",
       "      <td>3</td>\n",
       "    </tr>\n",
       "    <tr>\n",
       "      <th>25</th>\n",
       "      <td>eps3.3_metadata.par2</td>\n",
       "      <td>4</td>\n",
       "      <td>3</td>\n",
       "    </tr>\n",
       "    <tr>\n",
       "      <th>26</th>\n",
       "      <td>eps3.4_runtime-err0r.r00</td>\n",
       "      <td>5</td>\n",
       "      <td>3</td>\n",
       "    </tr>\n",
       "    <tr>\n",
       "      <th>27</th>\n",
       "      <td>eps3.5_kill-pr0cess.inc</td>\n",
       "      <td>6</td>\n",
       "      <td>3</td>\n",
       "    </tr>\n",
       "    <tr>\n",
       "      <th>28</th>\n",
       "      <td>eps3.6_fredrick+tanya.chk</td>\n",
       "      <td>7</td>\n",
       "      <td>3</td>\n",
       "    </tr>\n",
       "    <tr>\n",
       "      <th>29</th>\n",
       "      <td>eps3.7_dont-delete-me.ko</td>\n",
       "      <td>8</td>\n",
       "      <td>3</td>\n",
       "    </tr>\n",
       "    <tr>\n",
       "      <th>30</th>\n",
       "      <td>eps3.8_stage3.torrent</td>\n",
       "      <td>9</td>\n",
       "      <td>3</td>\n",
       "    </tr>\n",
       "    <tr>\n",
       "      <th>31</th>\n",
       "      <td>shutdown -r</td>\n",
       "      <td>10</td>\n",
       "      <td>3</td>\n",
       "    </tr>\n",
       "  </tbody>\n",
       "</table>\n",
       "</div>"
      ],
      "text/plain": [
       "                           name  number  season\n",
       "0        eps1.0_hellofriend.mov       1       1\n",
       "1   eps1.1_ones-and-zer0es.mpeg       2       1\n",
       "2              eps1.2_d3bug.mkv       3       1\n",
       "3            eps1.3_da3m0ns.mp4       4       1\n",
       "4           eps1.4_3xpl0its.wmv       5       1\n",
       "5     eps1.5_br4ve-trave1er.asf       6       1\n",
       "6        eps1.6_v1ew-s0urce.flv       7       1\n",
       "7          eps1.7_wh1ter0se.m4v       8       1\n",
       "8           eps1.8_m1rr0r1ng.qt       9       1\n",
       "9           eps1.9_zer0-day.avi      10       1\n",
       "10         eps2.0_unm4sk-pt1.tc       1       2\n",
       "11         eps2.0_unm4sk-pt2.tc       2       2\n",
       "12      eps2.1_k3rnel-pan1c.ksd       3       2\n",
       "13            eps2.2_init1.asec       4       2\n",
       "14         eps2.3_logic-b0mb.hc       5       2\n",
       "15      eps2.4_m4ster-s1ave.aes       6       2\n",
       "16         eps2.5_h4ndshake.sme       7       2\n",
       "17         eps2.6_succ3ss0r.p12       8       2\n",
       "18             eps2.7_init5.fve       9       2\n",
       "19    eps2.8_h1dden-pr0cess.axx      10       2\n",
       "20        eps2.9_pyth0n-pt1.p7z      11       2\n",
       "21        eps2.9_pyth0n-pt2.p7z      12       2\n",
       "22    eps3.0_power-saver-mode.h       1       3\n",
       "23               eps3.1_undo.gz       2       3\n",
       "24             eps3.2_legacy.so       3       3\n",
       "25         eps3.3_metadata.par2       4       3\n",
       "26     eps3.4_runtime-err0r.r00       5       3\n",
       "27      eps3.5_kill-pr0cess.inc       6       3\n",
       "28    eps3.6_fredrick+tanya.chk       7       3\n",
       "29     eps3.7_dont-delete-me.ko       8       3\n",
       "30        eps3.8_stage3.torrent       9       3\n",
       "31                  shutdown -r      10       3"
      ]
     },
     "execution_count": 24,
     "metadata": {},
     "output_type": "execute_result"
    }
   ],
   "source": [
    "json_normalize(data)[[\"name\",\"number\",\"season\"]]"
   ]
  }
 ],
 "metadata": {
  "kernelspec": {
   "display_name": "Python 3",
   "language": "python",
   "name": "python3"
  },
  "language_info": {
   "codemirror_mode": {
    "name": "ipython",
    "version": 3
   },
   "file_extension": ".py",
   "mimetype": "text/x-python",
   "name": "python",
   "nbconvert_exporter": "python",
   "pygments_lexer": "ipython3",
   "version": "3.6.0"
  }
 },
 "nbformat": 4,
 "nbformat_minor": 2
}
